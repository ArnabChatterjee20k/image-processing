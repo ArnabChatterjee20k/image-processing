{
 "cells": [
  {
   "cell_type": "code",
   "execution_count": 2,
   "metadata": {},
   "outputs": [],
   "source": [
    "import numpy as np"
   ]
  },
  {
   "cell_type": "markdown",
   "metadata": {},
   "source": [
    "# Create"
   ]
  },
  {
   "cell_type": "code",
   "execution_count": 6,
   "metadata": {},
   "outputs": [],
   "source": [
    "# 2 → Number of blocks (Depth)\n",
    "# 3 → Number of rows\n",
    "# 4 → Number of columns\n",
    "# in any shpae ,the last two determines row and column\n",
    "# and before that all determines the level of depth and sub groups\n",
    "data = np.random.rand(2,3,4)\n",
    "zeroes = np.zeros((1,2,3))\n",
    "ones = np.ones((1,2,3))\n",
    "full = np.full((1,2,3),4)"
   ]
  },
  {
   "cell_type": "code",
   "execution_count": 8,
   "metadata": {},
   "outputs": [
    {
     "data": {
      "text/plain": [
       "array([[[0.21637241, 0.53779773, 0.07590305, 0.11961912],\n",
       "        [0.17452313, 0.85961848, 0.38219156, 0.14758913],\n",
       "        [0.96378325, 0.44816952, 0.10239716, 0.093716  ]],\n",
       "\n",
       "       [[0.84091538, 0.71482653, 0.26022193, 0.4316831 ],\n",
       "        [0.59962818, 0.96885768, 0.04460327, 0.24889724],\n",
       "        [0.49366102, 0.17529761, 0.0120056 , 0.34940802]]])"
      ]
     },
     "execution_count": 8,
     "metadata": {},
     "output_type": "execute_result"
    }
   ],
   "source": [
    "data"
   ]
  },
  {
   "cell_type": "code",
   "execution_count": 9,
   "metadata": {},
   "outputs": [
    {
     "data": {
      "text/plain": [
       "array([[1, 2, 3],\n",
       "       [1, 2, 3]])"
      ]
     },
     "execution_count": 9,
     "metadata": {},
     "output_type": "execute_result"
    }
   ],
   "source": [
    "list_arr = [[1,2,3],[1,2,3]]\n",
    "np.array(list_arr)"
   ]
  },
  {
   "cell_type": "markdown",
   "metadata": {},
   "source": [
    "### Read"
   ]
  },
  {
   "cell_type": "code",
   "execution_count": 10,
   "metadata": {},
   "outputs": [],
   "source": [
    "shape = data.shape\n",
    "size = data.size\n",
    "types = data.dtype"
   ]
  },
  {
   "cell_type": "code",
   "execution_count": 25,
   "metadata": {},
   "outputs": [
    {
     "name": "stdout",
     "output_type": "stream",
     "text": [
      "[[0.21637241 0.53779773 0.07590305 0.11961912]\n",
      " [0.17452313 0.85961848 0.38219156 0.14758913]\n",
      " [0.96378325 0.44816952 0.10239716 0.093716  ]]\n",
      "[[0.21637241 0.53779773 0.07590305 0.11961912]\n",
      " [0.17452313 0.85961848 0.38219156 0.14758913]\n",
      " [0.96378325 0.44816952 0.10239716 0.093716  ]]\n",
      "[0.21637241 0.53779773 0.07590305 0.11961912]\n",
      "0.2163724121855507\n"
     ]
    }
   ],
   "source": [
    "### slicing\n",
    "# arr[start1:stop1:step1, start2:stop2:step2, ...]\n",
    "# Slicing works by specifying start:stop:step along each dimension.\n",
    "\n",
    "# same output\n",
    "print(data[0,:,:])\n",
    "print(data[0])\n",
    "\n",
    "# cols of 1 firt row of first 1 group\n",
    "print(data[0,0,:])\n",
    "print(data[0][0][0])"
   ]
  },
  {
   "cell_type": "markdown",
   "metadata": {},
   "source": [
    "### Update"
   ]
  },
  {
   "cell_type": "code",
   "execution_count": 24,
   "metadata": {},
   "outputs": [],
   "source": [
    "### for maths\n",
    "# for maths we can use the methods present in the np\n",
    "# like max, min , dot,max, avg, matrix sum, mul"
   ]
  },
  {
   "cell_type": "code",
   "execution_count": 29,
   "metadata": {},
   "outputs": [
    {
     "data": {
      "text/plain": [
       "array([[[ 0.11961912,  0.53779773, 12.        , 12.        ],\n",
       "        [ 0.14758913,  0.17452313,  0.38219156,  0.85961848],\n",
       "        [ 0.093716  ,  0.10239716,  0.44816952,  0.96378325]],\n",
       "\n",
       "       [[ 0.26022193,  0.4316831 ,  0.71482653,  0.84091538],\n",
       "        [ 0.04460327,  0.24889724,  0.59962818,  0.96885768],\n",
       "        [ 0.0120056 ,  0.17529761,  0.34940802,  0.49366102]]])"
      ]
     },
     "execution_count": 29,
     "metadata": {},
     "output_type": "execute_result"
    }
   ],
   "source": [
    "data[0][0][0] = 12\n",
    "data.sort()\n",
    "data"
   ]
  },
  {
   "cell_type": "code",
   "execution_count": 37,
   "metadata": {},
   "outputs": [
    {
     "data": {
      "text/plain": [
       "array([[[ 0.11961912],\n",
       "        [ 0.53779773],\n",
       "        [12.        ],\n",
       "        [12.        ],\n",
       "        [ 0.14758913],\n",
       "        [ 0.17452313],\n",
       "        [ 0.38219156],\n",
       "        [ 0.85961848]],\n",
       "\n",
       "       [[ 0.093716  ],\n",
       "        [ 0.10239716],\n",
       "        [ 0.44816952],\n",
       "        [ 0.96378325],\n",
       "        [ 0.26022193],\n",
       "        [ 0.4316831 ],\n",
       "        [ 0.71482653],\n",
       "        [ 0.84091538]],\n",
       "\n",
       "       [[ 0.04460327],\n",
       "        [ 0.24889724],\n",
       "        [ 0.59962818],\n",
       "        [ 0.96885768],\n",
       "        [ 0.0120056 ],\n",
       "        [ 0.17529761],\n",
       "        [ 0.34940802],\n",
       "        [ 0.49366102]]])"
      ]
     },
     "execution_count": 37,
     "metadata": {},
     "output_type": "execute_result"
    }
   ],
   "source": [
    "# logic behind reshapping\n",
    "# the total multiplication should be equal to data.size\n",
    "# we can mention -1 atmost 1 for unknow dimension telling the dimension\n",
    "# of that depth can be anything\n",
    "# here the size is 24 ; so 3*8 = 24\n",
    "data.reshape(3,8,-1)"
   ]
  },
  {
   "cell_type": "code",
   "execution_count": null,
   "metadata": {},
   "outputs": [
    {
     "name": "stdout",
     "output_type": "stream",
     "text": [
      "(2, 2, 4)\n",
      "(1, 2, 4)\n"
     ]
    },
    {
     "ename": "ValueError",
     "evalue": "all the input array dimensions except for the concatenation axis must match exactly, but along dimension 2, the array at index 0 has size 4 and the array at index 1 has size 1",
     "output_type": "error",
     "traceback": [
      "\u001b[0;31m---------------------------------------------------------------------------\u001b[0m",
      "\u001b[0;31mValueError\u001b[0m                                Traceback (most recent call last)",
      "Cell \u001b[0;32mIn[84], line 19\u001b[0m\n\u001b[1;32m     17\u001b[0m \u001b[38;5;28mprint\u001b[39m(new_data\u001b[38;5;241m.\u001b[39mshape)\n\u001b[1;32m     18\u001b[0m new_data \u001b[38;5;241m=\u001b[39m new_data\u001b[38;5;241m.\u001b[39mreshape(\u001b[38;5;241m2\u001b[39m,\u001b[38;5;241m4\u001b[39m,\u001b[38;5;241m1\u001b[39m)\n\u001b[0;32m---> 19\u001b[0m new_zeroes \u001b[38;5;241m=\u001b[39m \u001b[43mnp\u001b[49m\u001b[38;5;241;43m.\u001b[39;49m\u001b[43mappend\u001b[49m\u001b[43m(\u001b[49m\u001b[43mnew_zeroes\u001b[49m\u001b[43m,\u001b[49m\u001b[43m \u001b[49m\u001b[43mnew_data\u001b[49m\u001b[43m,\u001b[49m\u001b[43m \u001b[49m\u001b[43maxis\u001b[49m\u001b[38;5;241;43m=\u001b[39;49m\u001b[38;5;241;43m1\u001b[39;49m\u001b[43m)\u001b[49m\n",
      "File \u001b[0;32m~/Desktop/image-processing/.venv/lib/python3.11/site-packages/numpy/lib/_function_base_impl.py:5711\u001b[0m, in \u001b[0;36mappend\u001b[0;34m(arr, values, axis)\u001b[0m\n\u001b[1;32m   5709\u001b[0m     values \u001b[38;5;241m=\u001b[39m ravel(values)\n\u001b[1;32m   5710\u001b[0m     axis \u001b[38;5;241m=\u001b[39m arr\u001b[38;5;241m.\u001b[39mndim\u001b[38;5;241m-\u001b[39m\u001b[38;5;241m1\u001b[39m\n\u001b[0;32m-> 5711\u001b[0m \u001b[38;5;28;01mreturn\u001b[39;00m \u001b[43mconcatenate\u001b[49m\u001b[43m(\u001b[49m\u001b[43m(\u001b[49m\u001b[43marr\u001b[49m\u001b[43m,\u001b[49m\u001b[43m \u001b[49m\u001b[43mvalues\u001b[49m\u001b[43m)\u001b[49m\u001b[43m,\u001b[49m\u001b[43m \u001b[49m\u001b[43maxis\u001b[49m\u001b[38;5;241;43m=\u001b[39;49m\u001b[43maxis\u001b[49m\u001b[43m)\u001b[49m\n",
      "\u001b[0;31mValueError\u001b[0m: all the input array dimensions except for the concatenation axis must match exactly, but along dimension 2, the array at index 0 has size 4 and the array at index 1 has size 1"
     ]
    }
   ],
   "source": [
    "\"\"\"\n",
    "If axis=None, everything is flattened to 1D first, then appended.\n",
    "If axis=0, new data must have the same number of columns as the original.\n",
    "If axis=1, new data must have the same number of rows as the original.\n",
    "\"\"\"\n",
    "# New data must have shape (1, 2, 4)\n",
    "new_data = np.array([[\n",
    "    [10, 20, 30, 40],\n",
    "    [50, 60, 70, 80]\n",
    "]])\n",
    "\n",
    "# returned new array\n",
    "new_zeroes = np.append(zeroes, new_data, axis=0) #cols must be same as with new_data\n",
    "# row added so needs to add on more row to the new_data\n",
    "# to append new_data to new_zeroes along axis 1\n",
    "new_data = new_data.reshape(2,1,4)\n",
    "new_zeroes = np.append(new_zeroes, new_data, axis=1)"
   ]
  },
  {
   "cell_type": "code",
   "execution_count": null,
   "metadata": {},
   "outputs": [],
   "source": []
  }
 ],
 "metadata": {
  "kernelspec": {
   "display_name": ".venv",
   "language": "python",
   "name": "python3"
  },
  "language_info": {
   "codemirror_mode": {
    "name": "ipython",
    "version": 3
   },
   "file_extension": ".py",
   "mimetype": "text/x-python",
   "name": "python",
   "nbconvert_exporter": "python",
   "pygments_lexer": "ipython3",
   "version": "3.11.4"
  }
 },
 "nbformat": 4,
 "nbformat_minor": 2
}
